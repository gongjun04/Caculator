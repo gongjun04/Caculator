{
 "cells": [
  {
   "cell_type": "code",
   "execution_count": 3,
   "metadata": {},
   "outputs": [
    {
     "name": "stdout",
     "output_type": "stream",
     "text": [
      "3\n",
      "-3\n",
      "3.14\n",
      "21\n",
      "33\n"
     ]
    }
   ],
   "source": [
    "#숫자 자료형\n",
    "print(3)\n",
    "print(-3)\n",
    "print(3.14)\n",
    "print(3*7)\n",
    "print(3*(2+9))"
   ]
  },
  {
   "cell_type": "code",
   "execution_count": 4,
   "metadata": {},
   "outputs": [
    {
     "name": "stdout",
     "output_type": "stream",
     "text": [
      "뉴진스\n",
      "하니\n",
      "Hype \"Boy\"\n",
      "Hype 'Boy'\n",
      "Hype \"Boy\"\n",
      "iiiiiii\n",
      "iiiiiii\n"
     ]
    }
   ],
   "source": [
    "#문자열 자료형\n",
    "print('뉴진스')\n",
    "print(\"하니\")\n",
    "print('Hype \"Boy\"')\n",
    "print(\"Hype 'Boy'\")\n",
    "print(\"Hype \\\"Boy\\\"\")\n",
    "\n",
    "print(\"iiiiiii\")\n",
    "print(\"i\"*7)"
   ]
  },
  {
   "cell_type": "code",
   "execution_count": 1,
   "metadata": {},
   "outputs": [
    {
     "name": "stdout",
     "output_type": "stream",
     "text": [
      "배가 고파서휴게소에서핫도그먹을 거에요\n",
      "핫도그는 4개 먹을게요\n",
      "벌크업 가능할까요?True\n"
     ]
    }
   ],
   "source": [
    "#변수\n",
    "place=\"휴게소\"\n",
    "food=\"핫도그\"\n",
    "count=4\n",
    "bulk_up=count>=2\n",
    "\n",
    "print(\"배가 고파서\"+place+\"에서\"+food+\"먹을 거에요\")\n",
    "print(food+\"는 \"+str(count)+\"개 먹을게요\")\n",
    "print(\"벌크업 가능할까요?\"+str(bulk_up))"
   ]
  },
  {
   "cell_type": "code",
   "execution_count": 5,
   "metadata": {},
   "outputs": [
    {
     "name": "stdout",
     "output_type": "stream",
     "text": [
      "오늘 점심 메뉴는 치킨, 파스타, 냉면입니다. 오예~\n"
     ]
    }
   ],
   "source": [
    "#Mini Quiz\n",
    "lunch_menu=\"치킨, 파스타, 냉면\"\n",
    "print(\"오늘 점심 메뉴는 \"+lunch_menu+\"입니다. 오예~\")"
   ]
  },
  {
   "cell_type": "code",
   "execution_count": 6,
   "metadata": {},
   "outputs": [
    {
     "name": "stdout",
     "output_type": "stream",
     "text": [
      "3\n",
      "4\n",
      "6\n",
      "4.5\n"
     ]
    }
   ],
   "source": [
    "#연산자 1\n",
    "print(1+2)\n",
    "print(6-2)\n",
    "print(3+3)\n",
    "print(9/2)"
   ]
  },
  {
   "cell_type": "code",
   "execution_count": 9,
   "metadata": {},
   "outputs": [
    {
     "name": "stdout",
     "output_type": "stream",
     "text": [
      "16\n",
      "1\n",
      "3\n",
      "True\n",
      "False\n",
      "False\n",
      "True\n",
      "True\n"
     ]
    }
   ],
   "source": [
    "#연산자 2\n",
    "print(2**4) #2^4=16\n",
    "print(9%2) # 나머지 1\n",
    "print(10//3) # 몫\n",
    "print(1 !=3)# 같지 않음\n",
    "\n",
    "print((3>0) and (3>5)) # 둘다 만족하면 True\n",
    "print((3>0) & (3>5))\n",
    "\n",
    "print((3>0) or (3>5)) # 둘중하나 만족하면 True\n",
    "print((3>0) | (3>5))"
   ]
  },
  {
   "cell_type": "code",
   "execution_count": 10,
   "metadata": {},
   "outputs": [
    {
     "name": "stdout",
     "output_type": "stream",
     "text": [
      "5\n",
      "64\n",
      "12\n",
      "5\n",
      "3\n",
      "2\n"
     ]
    }
   ],
   "source": [
    "#숫자자리함수 1\n",
    "print(abs(-5)) #절댓값\n",
    "print(pow(4,3)) #4^3=4*4*4\n",
    "print(max(5,12))#12\n",
    "print(min(5,12))#5\n",
    "print(round(3,55))#4\n",
    "print(round(2,11))#2"
   ]
  },
  {
   "cell_type": "code",
   "execution_count": 12,
   "metadata": {},
   "outputs": [
    {
     "name": "stdout",
     "output_type": "stream",
     "text": [
      "4\n",
      "4\n",
      "2.0\n"
     ]
    }
   ],
   "source": [
    "from math import *\n",
    "print(floor(4.99))#내림\n",
    "print(ceil(3.14))#올림\n",
    "print(sqrt(4))#제곱근"
   ]
  },
  {
   "cell_type": "code",
   "execution_count": 15,
   "metadata": {},
   "outputs": [
    {
     "name": "stdout",
     "output_type": "stream",
     "text": [
      "0.19781522133002982\n",
      "4\n",
      "13\n",
      "1\n"
     ]
    }
   ],
   "source": [
    "#랜덤 함수\n",
    "from random import *\n",
    "\n",
    "print(random()) #0.0~1.0 미만\n",
    "print(int(random()*10)) #0~10미만\n",
    "\n",
    "print(randrange(1,26))#1~26미만\n",
    "print(randint(1,25))#1~25이하"
   ]
  },
  {
   "cell_type": "code",
   "execution_count": 58,
   "metadata": {},
   "outputs": [
    {
     "name": "stdout",
     "output_type": "stream",
     "text": [
      "댄스 동아리 연습 날짜는 매월 2, 17, 29일 입니다.\n"
     ]
    }
   ],
   "source": [
    "a=randrange(1,11)\n",
    "b=randrange(11,21)\n",
    "c=randrange(21,31)\n",
    "print(\"댄스 동아리 연습 날짜는 매월 \"+str(a)+\", \"+str(b)+\", \"+str(c)+\"일 입니다.\")"
   ]
  },
  {
   "cell_type": "code",
   "execution_count": 59,
   "metadata": {},
   "outputs": [
    {
     "name": "stdout",
     "output_type": "stream",
     "text": [
      "I love you\n",
      "\n",
      "I love you\n",
      "I love you\n",
      "Dangerously\n",
      "\n"
     ]
    }
   ],
   "source": [
    "#문자열\n",
    "sentence=\"I love you\"\n",
    "print(sentence)\n",
    "sentence2=\"\"\"\n",
    "I love you\n",
    "I love you\n",
    "Dangerously\n",
    "\"\"\"\n",
    "print(sentence2) #문장이 여러 줄일 경우"
   ]
  },
  {
   "cell_type": "code",
   "execution_count": 60,
   "metadata": {},
   "outputs": [
    {
     "name": "stdout",
     "output_type": "stream",
     "text": [
      "strawberry cake\n",
      "STRAWBERRY CAKE\n",
      "True\n",
      "15\n",
      "Chocolate Cake\n",
      "1\n",
      "-1\n",
      "3\n"
     ]
    }
   ],
   "source": [
    "#문자열 자리함수\n",
    "cake=\"Strawberry Cake\"\n",
    "print(cake.lower())\n",
    "print(cake.upper())\n",
    "\n",
    "print(cake[0].isupper())\n",
    "print(len(cake))\n",
    "print(cake.replace(\"Strawberry\",\"Chocolate\"))\n",
    "\n",
    "index=cake.index(\"t\")\n",
    "print(index)\n",
    "\n",
    "print(cake.find(\"pie\")) #없을 때는 -1 변환\n",
    "#print(cake.index(\"pie\")) #없을 때는 에러\n",
    "\n",
    "print(cake.count(\"r\"))"
   ]
  },
  {
   "cell_type": "code",
   "execution_count": 61,
   "metadata": {},
   "outputs": [
    {
     "name": "stdout",
     "output_type": "stream",
     "text": [
      "우리집 고양이는 30살입니다.\n",
      "고양이는 츄르를 좋아해요.\n",
      "chur는 c로 시작해요~.\n"
     ]
    }
   ],
   "source": [
    "# 문자열 포맷팅 1\n",
    "print(\"우리집 고양이는 %d살입니다.\"%30)\n",
    "print(\"고양이는 %s를 좋아해요.\"%\"츄르\")\n",
    "print(\"chur는 %c로 시작해요~.\"%\"c\")"
   ]
  },
  {
   "cell_type": "code",
   "execution_count": 63,
   "metadata": {},
   "outputs": [
    {
     "name": "stdout",
     "output_type": "stream",
     "text": [
      "코코는 2살입니다.\n",
      "코코는 망고맛과 수박맛을 좋아해요\n",
      "코코는 수박맛과 망고맛을 좋아해요\n"
     ]
    }
   ],
   "source": [
    "#문자열 포맷팅1\n",
    "print(\"코코는 {}살입니다.\".format(2))\n",
    "print(\"코코는 {0}맛과 {1}맛을 좋아해요\".format(\"망고\",\"수박\"))\n",
    "print(\"코코는 {1}맛과 {0}맛을 좋아해요\".format(\"망고\",\"수박\"))"
   ]
  },
  {
   "cell_type": "code",
   "execution_count": 64,
   "metadata": {},
   "outputs": [
    {
     "name": "stdout",
     "output_type": "stream",
     "text": [
      "코코는 2살이며, 레몬색을 좋아해요\n",
      "코코는 2살이며, 레몬색을 좋아해요\n"
     ]
    }
   ],
   "source": [
    "#문자열 포맷팅 3\n",
    "print(\"코코는 {age}살이며, {color}색을 좋아해요\".format(age=2,color=\"레몬\"))\n",
    "print(\"코코는 {age}살이며, {color}색을 좋아해요\".format(color=\"레몬\",age=2))"
   ]
  },
  {
   "cell_type": "code",
   "execution_count": null,
   "metadata": {},
   "outputs": [],
   "source": []
  },
  {
   "cell_type": "code",
   "execution_count": 1,
   "metadata": {},
   "outputs": [],
   "source": []
  },
  {
   "cell_type": "code",
   "execution_count": 16,
   "metadata": {},
   "outputs": [
    {
     "name": "stdout",
     "output_type": "stream",
     "text": [
      "goo61@\n"
     ]
    }
   ],
   "source": [
    "a=\"http://www.google.com\"\n",
    "b=a.split(\".\")[1]\n",
    "c=b[:3]\n",
    "d=len(b)\n",
    "e=b.count(\"e\")\n",
    "print(str(c)+str(d)+str(e)+\"@\")"
   ]
  },
  {
   "cell_type": "code",
   "execution_count": 18,
   "metadata": {},
   "outputs": [
    {
     "name": "stdout",
     "output_type": "stream",
     "text": [
      "{'피자나라치킨공주'}\n",
      "{'피자나라치킨공주'}\n"
     ]
    }
   ],
   "source": [
    "chicken={\"교촌치킨\",\"푸라닭\",\"피자나라치킨공주\"}\n",
    "pizza=set([\"도미노피자\",\"피자나라치킨공주\"])\n",
    "\n",
    "print(chicken & pizza)\n",
    "print(chicken.intersection(pizza))"
   ]
  },
  {
   "cell_type": "code",
   "execution_count": 19,
   "metadata": {},
   "outputs": [
    {
     "name": "stdout",
     "output_type": "stream",
     "text": [
      "{'푸라닭', '피자나라치킨공주', '도미노피자', '교촌치킨'}\n"
     ]
    }
   ],
   "source": [
    "print(chicken | pizza)"
   ]
  },
  {
   "cell_type": "code",
   "execution_count": 5,
   "metadata": {},
   "outputs": [
    {
     "name": "stdout",
     "output_type": "stream",
     "text": [
      "{'커피', '우유', '주스'} <class 'set'>\n",
      "['커피', '우유', '주스'] <class 'list'>\n",
      "('커피', '우유', '주스') <class 'tuple'>\n",
      "{'커피', '우유', '주스'} <class 'set'>\n"
     ]
    }
   ],
   "source": [
    "#자료구조의 변경\n",
    "menu={\"커피\",\"우유\",\"주스\"}\n",
    "print(menu,type(menu))\n",
    "\n",
    "#리스트로 감싸면?\n",
    "menu=list(menu)\n",
    "print(menu,type(menu))\n",
    "\n",
    "#튜플로 감싸면?\n",
    "menu=tuple(menu)\n",
    "print(menu,type(menu))\n",
    "\n",
    "#셋으로 감싸면?\n",
    "menu=set(menu)\n",
    "print(menu,type(menu))\n"
   ]
  },
  {
   "cell_type": "code",
   "execution_count": 13,
   "metadata": {},
   "outputs": [
    {
     "name": "stdout",
     "output_type": "stream",
     "text": [
      "[1, 2, 3, 4, 5]\n",
      "[5, 3, 1, 4, 2]\n"
     ]
    }
   ],
   "source": [
    "from random import *\n",
    "list1=[1,2,3,4,5]\n",
    "print(list1)\n",
    "shuffle(list1)\n",
    "print(list1)"
   ]
  },
  {
   "cell_type": "code",
   "execution_count": 18,
   "metadata": {},
   "outputs": [
    {
     "name": "stdout",
     "output_type": "stream",
     "text": [
      "[1, 4]\n"
     ]
    }
   ],
   "source": [
    "list1=[1,2,3,4,5]\n",
    "print(sample(list1,2))"
   ]
  },
  {
   "cell_type": "code",
   "execution_count": 46,
   "metadata": {},
   "outputs": [
    {
     "name": "stdout",
     "output_type": "stream",
     "text": [
      "--당첨자 발표--\n",
      "치킨 당첨자 : 13\n",
      "커피 당첨자 : [8, 12, 18]\n"
     ]
    }
   ],
   "source": [
    "from random import *\n",
    "\n",
    "list1=sample(range(1,21),4)\n",
    "shuffle(list1)\n",
    "\n",
    "print(\"--당첨자 발표--\")\n",
    "print(\"치킨 당첨자 : \"+str(list1[0]))\n",
    "print(\"커피 당첨자 : \"+str(list1[1:4]))"
   ]
  },
  {
   "cell_type": "code",
   "execution_count": 1,
   "metadata": {},
   "outputs": [
    {
     "name": "stdout",
     "output_type": "stream",
     "text": [
      "외출 싫어\n"
     ]
    }
   ],
   "source": [
    "temp=int(input(\"오늘 기온은 어떤가요?\"))\n",
    "if 30<=temp:\n",
    "    print(\"더워요!\")\n",
    "elif 10<= temp and temp<30:\n",
    "    print(\"외출 싫어\")\n",
    "elif 0<= temp<10:\n",
    "    print(\"쌀쌀해!\")\n",
    "else:\n",
    "    print(\"영하야 추워!\")"
   ]
  },
  {
   "cell_type": "code",
   "execution_count": 2,
   "metadata": {},
   "outputs": [
    {
     "name": "stdout",
     "output_type": "stream",
     "text": [
      "급식번호 : 0\n",
      "급식번호 : 1\n",
      "급식번호 : 2\n",
      "급식번호 : 3\n",
      "급식번호 : 4\n",
      "급식번호 : 0\n",
      "급식번호 : 1\n",
      "급식번호 : 2\n",
      "급식번호 : 3\n",
      "급식번호 : 4\n",
      "급식번호 : 5\n",
      "급식번호 : 6\n"
     ]
    }
   ],
   "source": [
    "#for 문\n",
    "for student_no in [0,1,2,3,4]:\n",
    "    print(\"급식번호 : {0}\".format(student_no))\n",
    "for student_no in range(7):\n",
    "    print(\"급식번호 : {0}\".format(student_no))"
   ]
  },
  {
   "cell_type": "code",
   "execution_count": 3,
   "metadata": {},
   "outputs": [
    {
     "name": "stdout",
     "output_type": "stream",
     "text": [
      "카리나학생, 급식이 준비되었습니다.\n",
      "하니학생, 급식이 준비되었습니다.\n",
      "장원영학생, 급식이 준비되었습니다.\n"
     ]
    }
   ],
   "source": [
    "res=['카리나',\"하니\",\"장원영\"]\n",
    "for student in res:\n",
    "    print(\"{0}학생, 급식이 준비되었습니다.\".format(student))"
   ]
  },
  {
   "cell_type": "code",
   "execution_count": 6,
   "metadata": {},
   "outputs": [
    {
     "name": "stdout",
     "output_type": "stream",
     "text": [
      "카리나학생, 급식준비됨5번 남음\n",
      "카리나학생, 급식준비됨4번 남음\n",
      "카리나학생, 급식준비됨3번 남음\n",
      "카리나학생, 급식준비됨2번 남음\n",
      "카리나학생, 급식준비됨1번 남음\n",
      "다시 줄서\n"
     ]
    }
   ],
   "source": [
    "#while문\n",
    "stu=\"카리나\"\n",
    "ind=5\n",
    "while ind>=1:\n",
    "    print((\"{0}학생, 급식준비됨{1}번 남음\").format(stu,ind))\n",
    "    ind-=1\n",
    "    if ind==0:\n",
    "        print(\"다시 줄서\")"
   ]
  },
  {
   "cell_type": "code",
   "execution_count": 7,
   "metadata": {},
   "outputs": [
    {
     "name": "stdout",
     "output_type": "stream",
     "text": [
      "장원영학생 급식 준비됨\n"
     ]
    }
   ],
   "source": [
    "stu=\"장원영\"\n",
    "name=\"Un\"\n",
    "while name != stu:\n",
    "    print(\"{0}학생 급식 준비됨\".format(stu))\n",
    "    name=input(\"이름 뭐니?\")"
   ]
  },
  {
   "cell_type": "code",
   "execution_count": 38,
   "metadata": {},
   "outputs": [
    {
     "name": "stdout",
     "output_type": "stream",
     "text": [
      "7번은 어딨니? 매점에서 벌서 발표 끝\n",
      "7번 발표해\n"
     ]
    }
   ],
   "source": [
    "#continue, break\n",
    "#continue는 다음 코드를 실행시키지 않고 반복문 다음 것 실행!\n",
    "#break를 만나면 반복문 바로 탈출\n",
    "holiday=[3,6]\n",
    "snack=[7]\n",
    "for student in range(1,11):\n",
    "    if student in holiday:\n",
    "        continue\n",
    "    elif student in snack:\n",
    "        print(\"{0}번은 어딨니? 매점에서 벌서 발표 끝\".format(student))\n",
    "        break\n",
    "print(\"{0}번 발표해\".format(student))"
   ]
  },
  {
   "cell_type": "code",
   "execution_count": 39,
   "metadata": {},
   "outputs": [
    {
     "name": "stdout",
     "output_type": "stream",
     "text": [
      "[1000, 2000, 3000]\n",
      "[1200, 2200, 3200]\n"
     ]
    }
   ],
   "source": [
    "#한줄 for\n",
    "breads=[1000,2000,3000]\n",
    "print(breads)\n",
    "breads=[i+200 for i in breads]\n",
    "print(breads)"
   ]
  },
  {
   "cell_type": "code",
   "execution_count": 40,
   "metadata": {},
   "outputs": [
    {
     "name": "stdout",
     "output_type": "stream",
     "text": [
      "[4, 3, 5]\n"
     ]
    }
   ],
   "source": [
    "breads=[\"핫피자빵\",\"초코롤\",\"불고기버거\"]\n",
    "breads=[len(i) for i in breads]\n",
    "print(breads)"
   ]
  },
  {
   "cell_type": "code",
   "execution_count": 81,
   "metadata": {},
   "outputs": [
    {
     "name": "stdout",
     "output_type": "stream",
     "text": [
      "[ ] 1번 학생 (좋아하는 숫자 : 29)\n",
      "[o] 2번 학생 (좋아하는 숫자 : 17)\n",
      "[ ] 3번 학생 (좋아하는 숫자 : 1)\n",
      "[ ] 4번 학생 (좋아하는 숫자 : 26)\n",
      "[ ] 5번 학생 (좋아하는 숫자 : 2)\n",
      "[ ] 6번 학생 (좋아하는 숫자 : 2)\n",
      "[ ] 7번 학생 (좋아하는 숫자 : 30)\n",
      "[ ] 8번 학생 (좋아하는 숫자 : 2)\n",
      "[o] 9번 학생 (좋아하는 숫자 : 15)\n",
      "[o] 10번 학생 (좋아하는 숫자 : 15)\n",
      "[ ] 11번 학생 (좋아하는 숫자 : 27)\n",
      "[ ] 12번 학생 (좋아하는 숫자 : 23)\n",
      "[ ] 13번 학생 (좋아하는 숫자 : 24)\n",
      "[ ] 14번 학생 (좋아하는 숫자 : 22)\n",
      "[ ] 15번 학생 (좋아하는 숫자 : 3)\n",
      "[ ] 16번 학생 (좋아하는 숫자 : 21)\n",
      "[o] 17번 학생 (좋아하는 숫자 : 17)\n",
      "[o] 18번 학생 (좋아하는 숫자 : 17)\n",
      "[o] 19번 학생 (좋아하는 숫자 : 15)\n",
      "[ ] 20번 학생 (좋아하는 숫자 : 24)\n",
      "[ ] 21번 학생 (좋아하는 숫자 : 21)\n",
      "[ ] 22번 학생 (좋아하는 숫자 : 4)\n",
      "[o] 23번 학생 (좋아하는 숫자 : 12)\n",
      "[o] 24번 학생 (좋아하는 숫자 : 11)\n",
      "[o] 25번 학생 (좋아하는 숫자 : 13)\n",
      "[ ] 26번 학생 (좋아하는 숫자 : 23)\n",
      "[ ] 27번 학생 (좋아하는 숫자 : 7)\n",
      "[o] 28번 학생 (좋아하는 숫자 : 12)\n",
      "[o] 29번 학생 (좋아하는 숫자 : 17)\n",
      "[ ] 30번 학생 (좋아하는 숫자 : 23)\n",
      "총 당첨 인원 : 11명\n"
     ]
    }
   ],
   "source": [
    "from random import *\n",
    "cnt=0\n",
    "for i in range(1,31):\n",
    "    a=sample(range(1,31),1)\n",
    "    a=int(a[0])\n",
    "    if(10<= a <=17):\n",
    "        cnt+=1\n",
    "        print(f\"[o] {i}번 학생 (좋아하는 숫자 : {a})\")\n",
    "    else:\n",
    "        print(f\"[ ] {i}번 학생 (좋아하는 숫자 : {a})\")\n",
    "print(f\"총 당첨 인원 : {cnt}명\")\n",
    "\n"
   ]
  },
  {
   "cell_type": "code",
   "execution_count": 83,
   "metadata": {},
   "outputs": [
    {
     "name": "stdout",
     "output_type": "stream",
     "text": [
      "배달 어플에 로그인되었습니다.\n"
     ]
    }
   ],
   "source": [
    "#함수\n",
    "def app_login():\n",
    "    print(\"배달 어플에 로그인되었습니다.\")\n",
    "app_login()"
   ]
  },
  {
   "cell_type": "code",
   "execution_count": 85,
   "metadata": {},
   "outputs": [
    {
     "data": {
      "text/plain": [
       "30"
      ]
     },
     "execution_count": 85,
     "metadata": {},
     "output_type": "execute_result"
    }
   ],
   "source": [
    "def sum(p1,p2):\n",
    "    return p1+p2\n",
    "sum(10,20)"
   ]
  },
  {
   "cell_type": "code",
   "execution_count": 89,
   "metadata": {},
   "outputs": [],
   "source": [
    "def pt(p,m):\n",
    "    print(f\"포인트 충전 완료. 잔액은{(p-m)}원입니다.\")\n",
    "    return p-m"
   ]
  },
  {
   "cell_type": "code",
   "execution_count": 90,
   "metadata": {},
   "outputs": [],
   "source": [
    "def od(p,m):\n",
    "    if p>=m:\n",
    "        print(f\"포인트 충전 완료. 잔액은{(p-m)}원입니다.\")\n",
    "        return p-m\n",
    "    else:\n",
    "        print(f\"포인트 충전 완료. 잔액은{(p)}원입니다.\")\n",
    "        return p"
   ]
  },
  {
   "cell_type": "code",
   "execution_count": 91,
   "metadata": {},
   "outputs": [],
   "source": [
    "def odn(p,m):\n",
    "    cms=2000\n",
    "    if p>=(m+cms):\n",
    "        print(f\"포인트 충전 완료. 잔액은{(p-m)}원입니다.\")\n",
    "        return cms,p-m-cms\n",
    "    else:\n",
    "        print(f\"포인트 충전 완료. 잔액은{(p)}원입니다.\")\n",
    "        return cms,p"
   ]
  },
  {
   "cell_type": "code",
   "execution_count": 92,
   "metadata": {},
   "outputs": [
    {
     "name": "stdout",
     "output_type": "stream",
     "text": [
      "전체 등수 : 300\n",
      "[교내] 등수 : 20\n",
      "전체 등수 : 300\n"
     ]
    }
   ],
   "source": [
    "#지역변수 : 함수 내에서만, 전역변수: 모든 공간에서\n",
    "ranking=300 #전역변수\n",
    "\n",
    "def school_grade(): #교내 등수\n",
    "    ranking=20 #지역변수\n",
    "    print(f\"[교내] 등수 : {ranking}\")\n",
    "print(f\"전체 등수 : {ranking}\")\n",
    "school_grade()\n",
    "print(f\"전체 등수 : {ranking}\")"
   ]
  },
  {
   "cell_type": "code",
   "execution_count": 93,
   "metadata": {},
   "outputs": [
    {
     "name": "stdout",
     "output_type": "stream",
     "text": [
      "전체 등수 : 300\n",
      "[교내] 등수 : 15.0\n",
      "전체 등수 : 15.0\n"
     ]
    }
   ],
   "source": [
    "ranking=300 #전역변수\n",
    "\n",
    "def school_grade(scale): #교내 등수\n",
    "    global ranking #전역 공간에 있는 랭킹 사용\n",
    "    ranking=ranking/scale\n",
    "    print(f\"[교내] 등수 : {ranking}\")\n",
    "\n",
    "print(f\"전체 등수 : {ranking}\")\n",
    "school_grade(20)\n",
    "print(f\"전체 등수 : {ranking}\")"
   ]
  },
  {
   "cell_type": "code",
   "execution_count": 112,
   "metadata": {},
   "outputs": [
    {
     "name": "stdout",
     "output_type": "stream",
     "text": [
      "당신의 표준 체중은 : 67.38입니다.\n"
     ]
    }
   ],
   "source": [
    "d=input(\"성별을 적어주세요(\\\"남\\\" 또는 \\\"여\\\") : \")\n",
    "e=float(input(\"키를 적어주세요(cm) : \"))\n",
    "def a(b,c):\n",
    "    c=c/100\n",
    "    if(b==\"남\"):\n",
    "        print(\"당신의 표준 체중은 : %.2f입니다.\"%(c*c*22))\n",
    "    else:\n",
    "        print(\"당신의 표준 체중은 : %.2f입니다.\"%(c*c*21))\n",
    "a(d,e)"
   ]
  },
  {
   "cell_type": "code",
   "execution_count": 113,
   "metadata": {},
   "outputs": [
    {
     "name": "stdout",
     "output_type": "stream",
     "text": [
      "인생네컷 vs 코인노래방 vs 로봇코딩 !! 무엇이 더 재밌을까요?\n"
     ]
    }
   ],
   "source": [
    "#기본 입출력\n",
    "print(\"인생네컷\",\"코인노래방\",\"로봇코딩\",sep=\" vs \",end=\" !! \")\n",
    "print(\"무엇이 더 재밌을까요?\")"
   ]
  },
  {
   "cell_type": "code",
   "execution_count": 114,
   "metadata": {},
   "outputs": [
    {
     "name": "stdout",
     "output_type": "stream",
     "text": [
      "인생네컷  :  1\n",
      "코인노래방 :  2\n",
      "로봇코딩  :  3\n"
     ]
    }
   ],
   "source": [
    "#체험 학습\n",
    "contents={\"인생네컷\":1, \"코인노래방\":2,\"로봇코딩\":3}\n",
    "for content,class_no in contents.items():\n",
    "    print(content.ljust(6), str(class_no).rjust(3),sep=\":\")"
   ]
  },
  {
   "cell_type": "code",
   "execution_count": 117,
   "metadata": {},
   "outputs": [
    {
     "name": "stdout",
     "output_type": "stream",
     "text": [
      "대기번호 : 001\n",
      "대기번호 : 002\n",
      "대기번호 : 003\n",
      "대기번호 : 004\n",
      "대기번호 : 005\n",
      "대기번호 : 006\n",
      "대기번호 : 007\n",
      "대기번호 : 008\n",
      "대기번호 : 009\n",
      "대기번호 : 010\n",
      "대기번호 : 011\n",
      "대기번호 : 012\n",
      "대기번호 : 013\n",
      "대기번호 : 014\n",
      "대기번호 : 015\n"
     ]
    }
   ],
   "source": [
    "#대기순번표\n",
    "for num in range(1,16):\n",
    "    print(\"대기번호 : \"+str(num).zfill(3))"
   ]
  },
  {
   "cell_type": "code",
   "execution_count": 120,
   "metadata": {},
   "outputs": [
    {
     "name": "stdout",
     "output_type": "stream",
     "text": [
      "0.600000\n",
      "1.67\n",
      "1.667\n"
     ]
    }
   ],
   "source": [
    "#소수점 출력\n",
    "print(\"{0:f}\".format(3/5))\n",
    "#소수점 둘째자리까지 출력\n",
    "print(\"{0:.2f}\".format(5/3))\n",
    "print(\"{0:.3f}\".format(5/3))"
   ]
  },
  {
   "cell_type": "code",
   "execution_count": 122,
   "metadata": {},
   "outputs": [],
   "source": [
    "#파일 입출력\n",
    "# write 덮어쓰기, 한글을 위한 설정\n",
    "score_file=open(\"score.txt\",\"w\",encoding=\"utf8\")\n",
    "print(\"수학 : 100\",file=score_file)\n",
    "print(\"영어 : 80\",file=score_file)\n",
    "score_file.close()#닫는 것을 필수"
   ]
  },
  {
   "cell_type": "code",
   "execution_count": 123,
   "metadata": {},
   "outputs": [],
   "source": [
    "#append 이어쓰기\n",
    "score_file=open(\"score.txt\",\"a\",encoding=\"utf8\")\n",
    "score_file.write(\"과학 : 80\")\n",
    "score_file.write(\"\\n코딩 : 100\")\n",
    "score_file.close()#닫는 것을 필수"
   ]
  },
  {
   "cell_type": "code",
   "execution_count": 124,
   "metadata": {},
   "outputs": [
    {
     "name": "stdout",
     "output_type": "stream",
     "text": [
      "수학 : 100\n",
      "영어 : 80\n",
      "과학 : 80\n",
      "코딩 : 100\n"
     ]
    }
   ],
   "source": [
    "#read 읽어오기\n",
    "score_file=open(\"score.txt\",\"r\",encoding=\"utf8\")\n",
    "print(score_file.read()) #전체 다 읽어오\n",
    "score_file.close()#닫는 것을 필수"
   ]
  },
  {
   "cell_type": "code",
   "execution_count": 125,
   "metadata": {},
   "outputs": [
    {
     "name": "stdout",
     "output_type": "stream",
     "text": [
      "수학 : 100\n",
      "\n",
      "영어 : 80\n",
      "과학 : 80\n",
      "\n",
      "코딩 : 100\n"
     ]
    }
   ],
   "source": [
    "#한 줄씩 읽어오기\n",
    "score_file=open(\"score.txt\",\"r\",encoding=\"utf8\")\n",
    "print(score_file.readline()) # 한 줄만 읽고 줄바꿈위치, 그리고 커서 이동\n",
    "print(score_file.readline(),end=\"\")#커서 이동이 싫다면?\n",
    "print(score_file.readline())\n",
    "print(score_file.readline())\n",
    "score_file.close()"
   ]
  }
 ],
 "metadata": {
  "kernelspec": {
   "display_name": "Python 3",
   "language": "python",
   "name": "python3"
  },
  "language_info": {
   "codemirror_mode": {
    "name": "ipython",
    "version": 3
   },
   "file_extension": ".py",
   "mimetype": "text/x-python",
   "name": "python",
   "nbconvert_exporter": "python",
   "pygments_lexer": "ipython3",
   "version": "3.10.6"
  },
  "orig_nbformat": 4
 },
 "nbformat": 4,
 "nbformat_minor": 2
}
